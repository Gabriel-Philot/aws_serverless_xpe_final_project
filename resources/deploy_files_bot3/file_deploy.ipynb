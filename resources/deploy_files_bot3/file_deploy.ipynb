{
 "cells": [
  {
   "cell_type": "markdown",
   "metadata": {},
   "source": [
    "##  Change dir for deploy / Variables (S3)"
   ]
  },
  {
   "cell_type": "markdown",
   "metadata": {},
   "source": [
    "###  ZIP FILES"
   ]
  },
  {
   "cell_type": "code",
   "execution_count": 1,
   "metadata": {},
   "outputs": [
    {
     "name": "stdout",
     "output_type": "stream",
     "text": [
      "\n",
      "s3://aws-serveless-project-lambda-teste/zips_lambda/lambda.zip\n"
     ]
    }
   ],
   "source": [
    "# IMPORTS\n",
    "import os\n",
    "import sys\n",
    "from dotenv import load_dotenv\n",
    "from deploy_file import upload_file\n",
    "sys.path.append(os.path.abspath('.'))\n",
    "# Replace '/path/to/your/directory'\n",
    "load_dotenv()\n",
    "PATH_FILE = os.getenv(\"path_file_zip\")\n",
    "PREFIX_ZIPS = os.getenv(\"prefix_zips\")\n",
    "PROFILE = os.getenv(\"profile_name\")\n",
    "\n",
    "BUCKET = os.getenv(\"bucket\")\n",
    "\n",
    "upload_zip = upload_file(PATH_FILE, PREFIX_ZIPS, BUCKET, \"lambda.zip\" ,PROFILE)\n",
    "print(upload_zip)"
   ]
  },
  {
   "cell_type": "markdown",
   "metadata": {},
   "source": [
    "### GLUE"
   ]
  },
  {
   "cell_type": "code",
   "execution_count": 1,
   "metadata": {},
   "outputs": [],
   "source": [
    "# IMPORTS\n",
    "import os\n",
    "import sys\n",
    "from deploy_file import upload_file\n",
    "sys.path.append(os.path.abspath('.'))\n",
    "\n",
    "# Replace '/path/to/your/directory'\n",
    "glue_file_path = ###' # esconder em variavel\n",
    "\n",
    "\n",
    "source = #var\n",
    "region = #var\n",
    "project = #var\n",
    "\n",
    "\n",
    "\n",
    "BUCKET = #var\n",
    "PREFIX = f\"Scripts/Glue_notebooks\"\n",
    "\n",
    "file_name = f\"{source}_{region}_{project}\"\n",
    "file_name_with_notebooktype = f\"{file_name}.ipynb\"\n",
    "\n",
    "upload_zip = upload_file(glue_file_path, PREFIX, BUCKET, file_name_with_notebooktype)\n",
    "print(upload_zip)"
   ]
  }
 ],
 "metadata": {
  "kernelspec": {
   "display_name": "venv_lighthouse",
   "language": "python",
   "name": "python3"
  },
  "language_info": {
   "codemirror_mode": {
    "name": "ipython",
    "version": 3
   },
   "file_extension": ".py",
   "mimetype": "text/x-python",
   "name": "python",
   "nbconvert_exporter": "python",
   "pygments_lexer": "ipython3",
   "version": "3.10.12"
  }
 },
 "nbformat": 4,
 "nbformat_minor": 2
}
