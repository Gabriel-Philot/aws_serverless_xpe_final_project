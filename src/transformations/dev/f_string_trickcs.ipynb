{
 "cells": [
  {
   "cell_type": "markdown",
   "metadata": {},
   "source": [
    "### 1"
   ]
  },
  {
   "cell_type": "code",
   "execution_count": 8,
   "metadata": {},
   "outputs": [
    {
     "name": "stdout",
     "output_type": "stream",
     "text": [
      "10000000 \n",
      " 1000000000.0\n",
      "\n",
      "100_000_000\n",
      "\n",
      "100,000,000\n"
     ]
    }
   ],
   "source": [
    "n: int = 100_000_00\n",
    "n2: float = 1e9\n",
    "\n",
    "print(n, \"\\n\",n2)\n",
    "\n",
    "n3: int = 100000000\n",
    "print(f'\\n{n3:_}')\n",
    "n4: int = 100000000\n",
    "print(f'\\n{n3:,}')\n"
   ]
  },
  {
   "cell_type": "markdown",
   "metadata": {},
   "source": [
    "### 2"
   ]
  },
  {
   "cell_type": "code",
   "execution_count": 13,
   "metadata": {},
   "outputs": [
    {
     "name": "stdout",
     "output_type": "stream",
     "text": [
      "                 var:\n",
      "var                 :\n",
      "        var         :\n"
     ]
    }
   ],
   "source": [
    "var: str = 'var'\n",
    "print(f'{var:>20}:')\n",
    "print(f'{var:20}:') # left = default\n",
    "print(f'{var:^20}:')"
   ]
  },
  {
   "cell_type": "code",
   "execution_count": 17,
   "metadata": {},
   "outputs": [
    {
     "name": "stdout",
     "output_type": "stream",
     "text": [
      "_________________var:\n",
      "var#################:\n",
      "||||||||var|||||||||:\n"
     ]
    }
   ],
   "source": [
    "var: str = 'var'\n",
    "print(f'{var:_>20}:')\n",
    "print(f'{var:#<20}:') # TOP \n",
    "print(f'{var:|^20}:')"
   ]
  },
  {
   "cell_type": "markdown",
   "metadata": {},
   "source": [
    "### 3"
   ]
  },
  {
   "cell_type": "code",
   "execution_count": 19,
   "metadata": {},
   "outputs": [
    {
     "name": "stdout",
     "output_type": "stream",
     "text": [
      "2024-05-17 19:02:57\n",
      "Fri May 17 19:02:57 2024\n"
     ]
    }
   ],
   "source": [
    "from datetime import datetime\n",
    "\n",
    "now: datetime = datetime.now()\n",
    "print(f'{now:%Y-%m-%d %H:%M:%S}')\n",
    "print(f'{now:%c}')"
   ]
  },
  {
   "cell_type": "markdown",
   "metadata": {},
   "source": [
    "### 4"
   ]
  },
  {
   "cell_type": "code",
   "execution_count": 23,
   "metadata": {},
   "outputs": [
    {
     "name": "stdout",
     "output_type": "stream",
     "text": [
      "Result: 1234.57\n",
      "Result: 1235\n",
      "Result: 1_234.568\n",
      "Result: 1,234.568\n"
     ]
    }
   ],
   "source": [
    "n: float = 1234.5678\n",
    "\n",
    "print(f'Result: {n:.2f}')\n",
    "print(f'Result: {n:.0f}')\n",
    "print(f'Result: {n:_.3f}')\n",
    "print(f'Result: {n:,.3f}')"
   ]
  },
  {
   "cell_type": "markdown",
   "metadata": {},
   "source": [
    "### 5"
   ]
  },
  {
   "cell_type": "code",
   "execution_count": 28,
   "metadata": {},
   "outputs": [
    {
     "name": "stdout",
     "output_type": "stream",
     "text": [
      "a + b = 15\n",
      "a + b = 15\n",
      "bool(a) = True\n",
      "my_var = 'Gordo bobo'\n"
     ]
    }
   ],
   "source": [
    "a: int = 5\n",
    "b: int = 10\n",
    "\n",
    "my_var: str = \"Gordo bobo\"\n",
    "\n",
    "print(f'a + b = {a + b}')\n",
    "print(f'{a + b = }')\n",
    "print(f'{bool(a) = }')\n",
    "print(f'{my_var = }')"
   ]
  }
 ],
 "metadata": {
  "kernelspec": {
   "display_name": "venv",
   "language": "python",
   "name": "python3"
  },
  "language_info": {
   "codemirror_mode": {
    "name": "ipython",
    "version": 3
   },
   "file_extension": ".py",
   "mimetype": "text/x-python",
   "name": "python",
   "nbconvert_exporter": "python",
   "pygments_lexer": "ipython3",
   "version": "3.10.12"
  }
 },
 "nbformat": 4,
 "nbformat_minor": 2
}
