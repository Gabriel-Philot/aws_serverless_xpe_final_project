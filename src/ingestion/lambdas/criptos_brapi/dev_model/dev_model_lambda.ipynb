{
 "cells": [
  {
   "cell_type": "markdown",
   "metadata": {},
   "source": [
    "# IMPORTS"
   ]
  },
  {
   "cell_type": "code",
   "execution_count": 7,
   "metadata": {
    "metadata": {}
   },
   "outputs": [],
   "source": [
    "# Imports 3third party\n",
    "\n",
    "import time\n",
    "import requests\n",
    "import pandas as pd\n",
    "import json\n",
    "import boto3\n",
    "import io\n",
    "import boto3\n",
    "from datetime import datetime, timedelta\n",
    "import pyarrow as pa\n",
    "import pyarrow.parquet as pq\n",
    "from dotenv import load_dotenv\n",
    "\n"
   ]
  },
  {
   "cell_type": "code",
   "execution_count": 8,
   "metadata": {
    "metadata": {}
   },
   "outputs": [],
   "source": [
    "# IMPORTS/variables custom \n",
    "import os\n",
    "import sys\n",
    "sys.path.append(os.path.abspath('.'))\n",
    "\n",
    "load_dotenv()\n",
    "PATH_DIR = os.getenv(\"path_variable\")\n",
    "PROFILE_NAME = os.getenv(\"profile_name\")\n",
    "# Get the absolute path\n",
    "absolute_directory = os.path.abspath(PATH_DIR)\n",
    "\n",
    "# Add the directory to sys.path\n",
    "sys.path.append(absolute_directory)\n",
    "\n",
    "\n",
    "# Imports Resources\n",
    "import pandas as pd\n",
    "from pandas import json_normalize\n",
    "from io import StringIO\n",
    "from datetime import datetime, timedelta\n",
    "from api_requests import Brapi_STOCKS_API, Brapi_notSTOCKS__API\n",
    "#from parquet_model import write_parquet_to_s3_raw\n",
    "from log_manager import S3LogManager\n",
    "#from week_days import get_previous_business_days\n",
    "from util import control_sucess, infer_schema, convert_to_string\n",
    "from json_upload_local import write_json_to_s3\n",
    "from cripto_modules import validate_coin_data\n",
    "import time\n",
    "\n",
    "# Import configs_dev in notebook_dir \n",
    "from config_dev import BASE_URL, REGION_NAME, \\\n",
    "    BUCKET, RAW_PREFIX, LOG_PREFIX, NAME_FUN, TOKEN_GENERATOR\n"
   ]
  },
  {
   "cell_type": "code",
   "execution_count": 4,
   "metadata": {
    "metadata": {}
   },
   "outputs": [],
   "source": [
    "# print(\"CHANGE ALL THE MOBILE VARIABLES IN config_dev.py FILE\")\n",
    "# print(f\"{BUCKET} \\n{RAW_PREFIX}\\n {BASE_URL}\")\n"
   ]
  },
  {
   "cell_type": "markdown",
   "metadata": {},
   "source": [
    "# _DEV_"
   ]
  },
  {
   "cell_type": "code",
   "execution_count": null,
   "metadata": {},
   "outputs": [],
   "source": [
    "##  Dev/_Debugging old version_\n",
    "\n",
    "# Develop your code here\n",
    "\n"
   ]
  },
  {
   "cell_type": "code",
   "execution_count": 9,
   "metadata": {
    "metadata": {}
   },
   "outputs": [],
   "source": [
    "params = {\n",
    "    'coin': 'BTC,ETC',\n",
    "    'currency': 'BRL',\n",
    "    'token': TOKEN_GENERATOR,\n",
    "}"
   ]
  },
  {
   "cell_type": "code",
   "execution_count": 10,
   "metadata": {
    "metadata": {}
   },
   "outputs": [
    {
     "name": "stdout",
     "output_type": "stream",
     "text": [
      "{'coins': [{'currency': 'BRL', 'currencyRateFromUSD': 5.1584, 'coinName': 'Bitcoin USD', 'coin': 'BTC', 'regularMarketChange': 1029.826174208, 'regularMarketPrice': 316708.95393280004, 'regularMarketChangePercent': 0.3262297, 'regularMarketDayLow': 312990.07251200004, 'regularMarketDayHigh': 318277.8555008, 'regularMarketDayRange': '312990.07251200004 - 318277.8555008', 'regularMarketVolume': 68224245025.9968, 'marketCap': 6238338574136.115, 'regularMarketTime': '2024-05-12T18:42:00.000Z', 'coinImageUrl': 'https://s2.coinmarketcap.com/static/img/coins/64x64/1.png'}, {'currency': 'BRL', 'currencyRateFromUSD': 5.1584, 'coinName': 'Ethereum Classic USD', 'coin': 'ETC', 'regularMarketChange': 0.484898730368, 'regularMarketPrice': 137.27997304320002, 'regularMarketChangePercent': 0.3544667, 'regularMarketDayLow': 136.26960755200002, 'regularMarketDayHigh': 138.71791315200002, 'regularMarketDayRange': '136.26960755200002 - 138.71791315200002', 'regularMarketVolume': 475008334.0288, 'marketCap': 20182164563.558403, 'regularMarketTime': '2024-05-12T18:42:00.000Z', 'coinImageUrl': 'https://s2.coinmarketcap.com/static/img/coins/64x64/1321.png'}]}\n"
     ]
    }
   ],
   "source": [
    "response = requests.get(BASE_URL, params=params)\n",
    " \n",
    "if response.status_code == 200:\n",
    "    data = response.json()\n",
    "    print(data)"
   ]
  },
  {
   "cell_type": "code",
   "execution_count": 11,
   "metadata": {
    "metadata": {}
   },
   "outputs": [],
   "source": [
    "params = {\n",
    "    'coin': 'BTC,ETC',\n",
    "    'currency': 'BRL',\n",
    "    'token': TOKEN_GENERATOR,\n",
    "}\n",
    "\n",
    "\n",
    "api = Brapi_notSTOCKS__API(\n",
    "    url=BASE_URL,\n",
    "    params=params\n",
    ")\n",
    "\n",
    "data = api.get_other_quotes()['coins']\n",
    "schema = infer_schema(data)\n",
    "\n",
    "timestamp_SP = datetime.now() - timedelta(hours=3)"
   ]
  },
  {
   "cell_type": "code",
   "execution_count": 12,
   "metadata": {
    "metadata": {}
   },
   "outputs": [
    {
     "data": {
      "text/plain": [
       "{'currency': 'string',\n",
       " 'currencyRateFromUSD': 'float',\n",
       " 'coinName': 'string',\n",
       " 'coin': 'string',\n",
       " 'regularMarketChange': 'float',\n",
       " 'regularMarketPrice': 'float',\n",
       " 'regularMarketChangePercent': 'float',\n",
       " 'regularMarketDayLow': 'float',\n",
       " 'regularMarketDayHigh': 'float',\n",
       " 'regularMarketDayRange': 'string',\n",
       " 'regularMarketVolume': 'float',\n",
       " 'marketCap': 'float',\n",
       " 'regularMarketTime': 'string',\n",
       " 'coinImageUrl': 'string'}"
      ]
     },
     "execution_count": 12,
     "metadata": {},
     "output_type": "execute_result"
    }
   ],
   "source": [
    "schema"
   ]
  },
  {
   "cell_type": "code",
   "execution_count": 15,
   "metadata": {
    "metadata": {}
   },
   "outputs": [],
   "source": [
    "from typing import Optional\n",
    "\n",
    "from pydantic import BaseModel\n",
    "\n",
    "class Coin(BaseModel):\n",
    "    currency: str\n",
    "    currencyRateFromUSD: float\n",
    "    coinName: str \n",
    "    coin: str\n",
    "    regularMarketChange: float\n",
    "    regularMarketPrice: float\n",
    "    regularMarketChangePercent: float\n",
    "    regularMarketDayLow: float\n",
    "    regularMarketDayHigh: float \n",
    "    regularMarketDayRange: str\n",
    "    regularMarketVolume: float\n",
    "    marketCap: float\n",
    "    regularMarketTime: str\n",
    "    coinImageUrl: Optional[str] = None\n",
    "\n",
    "def validate_coin_data(data):\n",
    "\n",
    "    data_dicts = []\n",
    "\n",
    "    for result in data:\n",
    "        coin = Coin(**result)\n",
    "        \n",
    "        data_dicts.append(coin.dict())\n",
    "\n",
    "    return data_dicts"
   ]
  },
  {
   "cell_type": "code",
   "execution_count": 17,
   "metadata": {
    "metadata": {}
   },
   "outputs": [],
   "source": [
    "check_json = validate_coin_data(data)\n"
   ]
  },
  {
   "cell_type": "markdown",
   "metadata": {},
   "source": [
    "### Lambda fun model below : Uncode it to dev"
   ]
  },
  {
   "cell_type": "code",
   "execution_count": 5,
   "metadata": {
    "metadata": {}
   },
   "outputs": [],
   "source": [
    "\n",
    "# V0 inicial structure for logging ect\n",
    "def lambda_handler(event, context):\n",
    "    inicio = time.perf_counter()\n",
    "    control = \"OK\"\n",
    "    timestamp_SP = datetime.now() - timedelta(hours=3)\n",
    "    timestamp_SP_api_pull = timestamp_SP - timedelta(days=1)\n",
    "    \n",
    "    # loop df ... [!WARNING] if dont use it change in row 58\n",
    "    #df_append = pd.DataFrame()\n",
    "\n",
    "    # api class for requests\n",
    "    params = {\n",
    "    'coin': 'BTC,ETC',\n",
    "    'currency': 'BRL',\n",
    "    'token': TOKEN_GENERATOR,\n",
    "    }\n",
    "\n",
    "\n",
    "    api = Brapi_notSTOCKS__API(\n",
    "    url=BASE_URL,\n",
    "    params=params\n",
    "    )\n",
    "\n",
    "    data = api.get_other_quotes()['coins']\n",
    "    schema = infer_schema(data)\n",
    "    \n",
    "    # --------------------Api requests wra wrangling\n",
    "    # ------------------- Use Try and execept\n",
    "\n",
    "    #for date in get_previous_business_days(5):\n",
    "        #json_result = api_request_instance.get_routes(date)\n",
    "    try:\n",
    "        check_json = validate_coin_data(data)\n",
    "        \n",
    "    # ----------------- execept + control_var for logs management\n",
    "    except Exception as e:\n",
    "        control = f'Error msg: {e}'\n",
    "        print(\n",
    "            \"{project_name}: The request returned 0 items. Original message: {msg}\".format(\n",
    "                msg=e\n",
    "            )\n",
    "        )\n",
    "\n",
    "                            \n",
    "        # except Exception as e:\n",
    "        #     control = f'Error msg: {e}'\n",
    "        #     print(\"Lighthouse - Chile - Beetrack - API returned 0 lines\")\n",
    "\n",
    "    # -------------------------- usual final strucuture for uploading and logging the ingestion.\n",
    "    \n",
    "    sucess_var = control_sucess(control)\n",
    "\n",
    "    file_s3= 0\n",
    "    if control == \"OK\":\n",
    "        file_s3, file_size = write_json_to_s3(check_json, BUCKET, RAW_PREFIX, timestamp_SP, PROFILE_NAME)\n",
    "        print(f\"LIGHTHOUSE: Json file saved to S3 at: \\n {file_s3}\")\n",
    "        print(f\"LIGHTHOUSE: Json file size: {file_size} bytes\")\n",
    "\n",
    "    fim = time.perf_counter()\n",
    "    log_manager = S3LogManager(BUCKET, LOG_PREFIX, control)\n",
    "    time_var = round((fim - inicio),2)\n",
    "    log_manager.add_log_entry(NAME_FUN, sucess_var, time_var, control, file_size)\n",
    "\n",
    "# ! lambda_handler('','') !\n"
   ]
  },
  {
   "cell_type": "markdown",
   "metadata": {},
   "source": [
    "### TESTING / DEBUGING IT"
   ]
  },
  {
   "cell_type": "code",
   "execution_count": 6,
   "metadata": {
    "metadata": {}
   },
   "outputs": [
    {
     "name": "stdout",
     "output_type": "stream",
     "text": [
      "LIGHTHOUSE: Json file saved to S3 at: \n",
      " s3://aws-serveless-project-lambda-teste/dev/raw/brapi_api_cripto/date_ingestion=20240512/file.json\n",
      "LIGHTHOUSE: Json file size: 1143 bytes\n"
     ]
    }
   ],
   "source": [
    "import time\n",
    "import logging\n",
    "\n",
    "start_time = time.perf_counter()\n",
    "\n",
    "try:\n",
    "    lambda_handler(None, None)\n",
    "    logging.basicConfig(filename = \"scrapper.log\", level=logging.INFO, format='%(asctime)s - %(message)s', datefmt = '%Y-%m-%d %H:%M:%S')\n",
    "    end = time.perf_counter()\n",
    "    time = end - start_time\n",
    "    logging.info(f\"{NAME_FUN} - success - time {time:.2f}.\")\n",
    "\n",
    "except Exception as e:\n",
    "    logging.error(f\"Error.{NAME_FUN}:{e}\")"
   ]
  }
 ],
 "metadata": {
  "kernelspec": {
   "display_name": "venv_lighthouse",
   "language": "python",
   "name": "python3"
  },
  "language_info": {
   "codemirror_mode": {
    "name": "ipython",
    "version": 3
   },
   "file_extension": ".py",
   "mimetype": "text/x-python",
   "name": "python",
   "nbconvert_exporter": "python",
   "pygments_lexer": "ipython3",
   "version": "3.10.12"
  }
 },
 "nbformat": 4,
 "nbformat_minor": 2
}
