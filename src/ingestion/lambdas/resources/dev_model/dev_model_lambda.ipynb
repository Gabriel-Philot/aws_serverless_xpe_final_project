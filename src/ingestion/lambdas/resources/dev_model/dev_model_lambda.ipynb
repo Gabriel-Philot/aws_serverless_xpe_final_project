{
 "cells": [
  {
   "cell_type": "markdown",
   "metadata": {},
   "source": [
    "# IMPORTS"
   ]
  },
  {
   "cell_type": "code",
   "execution_count": 1,
   "metadata": {},
   "outputs": [],
   "source": [
    "# Imports 3third party\n",
    "\n",
    "import time\n",
    "import requests\n",
    "import pandas as pd\n",
    "import json\n",
    "import boto3\n",
    "import io\n",
    "import boto3\n",
    "from datetime import datetime, timedelta\n",
    "import pyarrow as pa\n",
    "import pyarrow.parquet as pq\n",
    "from dotenv import load_dotenv\n",
    "\n"
   ]
  },
  {
   "cell_type": "code",
   "execution_count": 2,
   "metadata": {},
   "outputs": [],
   "source": [
    "# IMPORTS/variables custom \n",
    "import os\n",
    "import sys\n",
    "sys.path.append(os.path.abspath('.'))\n",
    "\n",
    "load_dotenv()\n",
    "PATH_DIR = os.getenv(\"path_variable\")\n",
    "\n",
    "# Get the absolute path\n",
    "absolute_directory = os.path.abspath(PATH_DIR)\n",
    "\n",
    "# Add the directory to sys.path\n",
    "sys.path.append(absolute_directory)\n",
    "\n",
    "\n",
    "# Imports Resources\n",
    "import pandas as pd\n",
    "from pandas import json_normalize\n",
    "from io import StringIO\n",
    "from datetime import datetime, timedelta\n",
    "#from api_requests import api_requestClass, soap_requestClass\n",
    "#from parquet_model import write_parquet_to_s3_raw\n",
    "from log_manager import S3LogManager\n",
    "#from week_days import get_previous_business_days\n",
    "from util import control_sucess, infer_schema, convert_to_string\n",
    "from pa_xpe.src.ingestion.lambdas.resources.json_upload_local import write_json_to_s3\n",
    "import time\n",
    "\n",
    "# Import configs_dev in notebook_dir \n",
    "from config_dev import BASE_URL, REGION_NAME, \\\n",
    "    BUCKET, RAW_PREFIX, LOG_PREFIX, NAME_FUN\n"
   ]
  },
  {
   "cell_type": "code",
   "execution_count": 4,
   "metadata": {},
   "outputs": [
    {
     "name": "stdout",
     "output_type": "stream",
     "text": [
      "CHANGE ALL THE MOBILE VARIABLES IN config_dev.py FILE\n",
      "empty_bucket \n",
      "dev/raw/source_value/projects_value/date_ingestion=\n",
      " base_urlvalue\n"
     ]
    }
   ],
   "source": [
    "print(\"CHANGE ALL THE MOBILE VARIABLES IN config_dev.py FILE\")\n",
    "print(f\"{BUCKET} \\n{RAW_PREFIX}\\n {BASE_URL}\")\n"
   ]
  },
  {
   "cell_type": "markdown",
   "metadata": {},
   "source": [
    "# _DEV_"
   ]
  },
  {
   "cell_type": "code",
   "execution_count": null,
   "metadata": {},
   "outputs": [],
   "source": [
    "##  Dev/_Debugging old version_\n",
    "\n",
    "# Develop your code here\n",
    "\n"
   ]
  },
  {
   "cell_type": "markdown",
   "metadata": {},
   "source": [
    "### Lambda fun model below : Uncode it to dev"
   ]
  },
  {
   "cell_type": "code",
   "execution_count": null,
   "metadata": {},
   "outputs": [],
   "source": [
    "\n",
    "# # V0 inicial structure for logging ect\n",
    "# def lambda_handler(event, context):\n",
    "# inicio = time.perf_counter()\n",
    "#     control = \"OK\"\n",
    "#     timestamp_SP = datetime.now() - timedelta(hours=3)\n",
    "#     timestamp_SP_api_pull = timestamp_SP - timedelta(days=1)\n",
    "    \n",
    "#     # loop df ... [!WARNING] if dont use it change in row 58\n",
    "#     #df_append = pd.DataFrame()\n",
    "\n",
    "#     # api class for requests\n",
    "#     api_request_instance = api_requestClass(SECRET_NAME, REGION_NAME, SERVICE_NAME, BASE_URL)\n",
    "    \n",
    "#     # --------------------Api requests wra wrangling\n",
    "#     # ------------------- Use Try and execept\n",
    " \n",
    "#     #for date in get_previous_business_days(5):\n",
    "#         #json_result = api_request_instance.get_routes(date)\n",
    "#         #try:\n",
    "\n",
    "#         # ----------------- execept + control_var for logs management\n",
    "\n",
    "#         #     except Exception as e:\n",
    "#         #         control = f'Error msg: {e}'\n",
    "#         #         print(\n",
    "#         #             \"{project_name}: The request returned 0 items. Original message: {msg}\".format(\n",
    "#         #                 msg=e\n",
    "#         #             )\n",
    "#         #         )\n",
    "\n",
    "                            \n",
    "#         # except Exception as e:\n",
    "#         #     control = f'Error msg: {e}'\n",
    "#         #     print(\"Lighthouse - Chile - Beetrack - API returned 0 lines\")\n",
    "\n",
    "#     # -------------------------- usual final strucuture for uploading and logging the ingestion.\n",
    "    \n",
    "#     sucess_var = control_sucess(control)\n",
    "\n",
    "# file_s3= 0\n",
    "# if control == \"OK\":\n",
    "#     file_s3, file_size = write_json_to_s3(json_data, BUCKET, RAW_PREFIX, timestamp_SP, PROFILE_NAME)\n",
    "#     print(f\"LIGHTHOUSE: Json file saved to S3 at: \\n {file_s3}\")\n",
    "#     print(f\"LIGHTHOUSE: Json file size: {file_size} bytes\")\n",
    "    \n",
    "# fim = time.perf_counter()\n",
    "# log_manager = S3LogManager(BUCKET, LOG_PREFIX, control)\n",
    "# time_var = round((fim - inicio),2)\n",
    "# log_manager.add_log_entry(NAME_FUN, sucess_var, time_var, control, file_size)\n",
    "\n",
    "# # ! lambda_handler('','') !\n"
   ]
  },
  {
   "cell_type": "markdown",
   "metadata": {},
   "source": [
    "### TESTING / DEBUGING IT"
   ]
  },
  {
   "cell_type": "code",
   "execution_count": null,
   "metadata": {},
   "outputs": [],
   "source": [
    "import time\n",
    "import logging\n",
    "\n",
    "start_time = time.perf_counter()\n",
    "\n",
    "try:\n",
    "    lambda_handler(None, None)\n",
    "    logging.basicConfig(filename = \"scrapper.log\", level=logging.INFO, format='%(asctime)s - %(message)s', datefmt = '%Y-%m-%d %H:%M:%S')\n",
    "    end = time.perf_counter()\n",
    "    time = end - start_time\n",
    "    logging.info(f\"{NAME_FUN} - success - time {time:.2f}.\")\n",
    "\n",
    "except Exception as e:\n",
    "    logging.error(f\"Error.{NAME_FUN}:{e}\")"
   ]
  }
 ],
 "metadata": {
  "kernelspec": {
   "display_name": "venv_lighthouse",
   "language": "python",
   "name": "python3"
  },
  "language_info": {
   "codemirror_mode": {
    "name": "ipython",
    "version": 3
   },
   "file_extension": ".py",
   "mimetype": "text/x-python",
   "name": "python",
   "nbconvert_exporter": "python",
   "pygments_lexer": "ipython3",
   "version": "3.10.12"
  }
 },
 "nbformat": 4,
 "nbformat_minor": 2
}
