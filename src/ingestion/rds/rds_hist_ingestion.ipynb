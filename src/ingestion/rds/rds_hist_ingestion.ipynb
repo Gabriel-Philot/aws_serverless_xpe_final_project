{
 "cells": [
  {
   "cell_type": "markdown",
   "metadata": {},
   "source": [
    "## Description\n",
    "\n",
    "The goal of this notebook its to make a simple ingestion of data on the AWS RDS, here will be done in a notebook using python and the library psycopg2. The reason of using notebooks, was manly for fast dev and its a one time thing in this project. \n",
    "\n",
    "* The reason of this RDS its only to simulate a data migration using DMS in AWS."
   ]
  },
  {
   "cell_type": "markdown",
   "metadata": {},
   "source": [
    "## IMPORTS"
   ]
  },
  {
   "cell_type": "code",
   "execution_count": 1,
   "metadata": {
    "metadata": {}
   },
   "outputs": [],
   "source": [
    "import requests\n",
    "import pandas as pd\n",
    "import boto3\n",
    "import json\n",
    "import datetime\n",
    "import pprint\n",
    "import os\n",
    "from dotenv import load_dotenv"
   ]
  },
  {
   "cell_type": "markdown",
   "metadata": {},
   "source": [
    "### Custom modules"
   ]
  },
  {
   "cell_type": "code",
   "execution_count": 2,
   "metadata": {
    "metadata": {}
   },
   "outputs": [],
   "source": [
    "from resources.brapi_api import Brapi_STOCKS_API, Brapi_notSTOCKS__API\n",
    "from resources.historical_process import process_Df_hist_stocks, process_inflation_hist, process_dividends_df, move_column\n",
    "from resources.postegres import PostgresDb, infer_postgres_schema\n",
    "\n",
    "load_dotenv('resources/.env')\n",
    "TOKEN_GENERATOR = os.getenv(\"token_generator\")\n",
    "POSTGRES_USER = os.getenv(\"user_postegress\")\n",
    "POSTGRES_PASSWORD = os.getenv(\"pass_postegress\")\n",
    "POSTGRES_HOST = os.getenv(\"host_postegress\")\n",
    "POSTGRES_DB = os.getenv(\"db_postegress\")\n"
   ]
  },
  {
   "cell_type": "markdown",
   "metadata": {},
   "source": [
    "### STOCKS and FIIS"
   ]
  },
  {
   "cell_type": "code",
   "execution_count": 3,
   "metadata": {
    "metadata": {}
   },
   "outputs": [],
   "source": [
    "# Imput vars\n",
    "\n",
    "tickers = [\"PETR4\", \"WEGE3\", \"VALE3\", \"RAIZ4\", \"ITSA4\", \"KLBN4\", \"B3SA3\", \"ALPA3\", \"ELET3\", \"MGLU3\"]\n",
    "\n",
    "\n",
    "\n",
    "params = {\n",
    "    'range': '6mo',\n",
    "    'interval': '1d',\n",
    "    'fundamental': 'true',\n",
    "    'modules': 'balanceSheetHistory',\n",
    "    'token': TOKEN_GENERATOR,\n",
    "}\n",
    "\n",
    "\n",
    "URL = f\"https://brapi.dev/api/quote/\""
   ]
  },
  {
   "cell_type": "markdown",
   "metadata": {},
   "source": [
    "### *Requesting Stocks historical data from Brapi API*"
   ]
  },
  {
   "cell_type": "code",
   "execution_count": 4,
   "metadata": {
    "metadata": {}
   },
   "outputs": [],
   "source": [
    "# Here are a cliche class for using requests to make an API call:\n",
    "## OBS: Just used it cause i want to organize my code and wil reutileze it alot.\n",
    "\n",
    "api = Brapi_STOCKS_API(\n",
    "    url=URL,\n",
    "    tickers=tickers, \n",
    "    params=params\n",
    ")\n",
    "\n",
    "data = api.get_quotes()"
   ]
  },
  {
   "cell_type": "code",
   "execution_count": 5,
   "metadata": {
    "metadata": {}
   },
   "outputs": [
    {
     "data": {
      "text/html": [
       "<div>\n",
       "<style scoped>\n",
       "    .dataframe tbody tr th:only-of-type {\n",
       "        vertical-align: middle;\n",
       "    }\n",
       "\n",
       "    .dataframe tbody tr th {\n",
       "        vertical-align: top;\n",
       "    }\n",
       "\n",
       "    .dataframe thead th {\n",
       "        text-align: right;\n",
       "    }\n",
       "</style>\n",
       "<table border=\"1\" class=\"dataframe\">\n",
       "  <thead>\n",
       "    <tr style=\"text-align: right;\">\n",
       "      <th></th>\n",
       "      <th>date</th>\n",
       "      <th>open</th>\n",
       "      <th>high</th>\n",
       "      <th>low</th>\n",
       "      <th>close</th>\n",
       "      <th>volume</th>\n",
       "      <th>adjustedclose</th>\n",
       "      <th>symbol</th>\n",
       "      <th>update_key</th>\n",
       "    </tr>\n",
       "  </thead>\n",
       "  <tbody>\n",
       "    <tr>\n",
       "      <th>0</th>\n",
       "      <td>2023-11-21</td>\n",
       "      <td>36.54</td>\n",
       "      <td>36.54</td>\n",
       "      <td>35.91</td>\n",
       "      <td>36.36</td>\n",
       "      <td>49597800</td>\n",
       "      <td>32.6339</td>\n",
       "      <td>PETR4</td>\n",
       "      <td>2023-11-21PETR4</td>\n",
       "    </tr>\n",
       "    <tr>\n",
       "      <th>1</th>\n",
       "      <td>2023-11-22</td>\n",
       "      <td>34.90</td>\n",
       "      <td>35.16</td>\n",
       "      <td>34.25</td>\n",
       "      <td>35.16</td>\n",
       "      <td>58578300</td>\n",
       "      <td>32.7786</td>\n",
       "      <td>PETR4</td>\n",
       "      <td>2023-11-22PETR4</td>\n",
       "    </tr>\n",
       "    <tr>\n",
       "      <th>2</th>\n",
       "      <td>2023-11-23</td>\n",
       "      <td>35.13</td>\n",
       "      <td>35.25</td>\n",
       "      <td>34.81</td>\n",
       "      <td>35.17</td>\n",
       "      <td>24068100</td>\n",
       "      <td>32.7880</td>\n",
       "      <td>PETR4</td>\n",
       "      <td>2023-11-23PETR4</td>\n",
       "    </tr>\n",
       "    <tr>\n",
       "      <th>3</th>\n",
       "      <td>2023-11-24</td>\n",
       "      <td>34.98</td>\n",
       "      <td>35.82</td>\n",
       "      <td>34.71</td>\n",
       "      <td>35.27</td>\n",
       "      <td>53456200</td>\n",
       "      <td>32.8812</td>\n",
       "      <td>PETR4</td>\n",
       "      <td>2023-11-24PETR4</td>\n",
       "    </tr>\n",
       "    <tr>\n",
       "      <th>4</th>\n",
       "      <td>2023-11-27</td>\n",
       "      <td>35.00</td>\n",
       "      <td>35.40</td>\n",
       "      <td>34.75</td>\n",
       "      <td>35.07</td>\n",
       "      <td>36996000</td>\n",
       "      <td>32.6947</td>\n",
       "      <td>PETR4</td>\n",
       "      <td>2023-11-27PETR4</td>\n",
       "    </tr>\n",
       "  </tbody>\n",
       "</table>\n",
       "</div>"
      ],
      "text/plain": [
       "         date   open   high    low  close    volume  adjustedclose symbol  \\\n",
       "0  2023-11-21  36.54  36.54  35.91  36.36  49597800        32.6339  PETR4   \n",
       "1  2023-11-22  34.90  35.16  34.25  35.16  58578300        32.7786  PETR4   \n",
       "2  2023-11-23  35.13  35.25  34.81  35.17  24068100        32.7880  PETR4   \n",
       "3  2023-11-24  34.98  35.82  34.71  35.27  53456200        32.8812  PETR4   \n",
       "4  2023-11-27  35.00  35.40  34.75  35.07  36996000        32.6947  PETR4   \n",
       "\n",
       "        update_key  \n",
       "0  2023-11-21PETR4  \n",
       "1  2023-11-22PETR4  \n",
       "2  2023-11-23PETR4  \n",
       "3  2023-11-24PETR4  \n",
       "4  2023-11-27PETR4  "
      ]
     },
     "execution_count": 5,
     "metadata": {},
     "output_type": "execute_result"
    }
   ],
   "source": [
    "# Here whats going on behind this function is that pyndatic wil force the type of the columns so, we have more\n",
    "# security of what wil be ingest in the database. The rest its just simple json treatment with pandas.\n",
    "\n",
    "historical_df =  process_Df_hist_stocks(data)\n",
    "\n",
    "\n",
    "# col for update algorithm in pushing the data to the database.\n",
    "col_aux = 'update_key'\n",
    "historical_df[col_aux] = historical_df.date + historical_df.symbol\n",
    "\n",
    "# Postegres it's case sensitive for columns names...\n",
    "historical_df.columns = historical_df.columns.str.lower()\n",
    "\n",
    "historical_df.head()"
   ]
  },
  {
   "cell_type": "markdown",
   "metadata": {},
   "source": [
    "#### *Load to RDS*"
   ]
  },
  {
   "cell_type": "code",
   "execution_count": 6,
   "metadata": {},
   "outputs": [],
   "source": [
    "table_stocks = \"stocks_historical\"\n",
    "schema_name_rds = \"firsttry\"\n",
    "schema_stocks = infer_postgres_schema(historical_df)"
   ]
  },
  {
   "cell_type": "code",
   "execution_count": 7,
   "metadata": {},
   "outputs": [],
   "source": [
    "def save_db_postgress_RDS(dataframe, schema_name_rds, table_name_rds, columns_schema_rds, key_column_rds):\n",
    "    df = dataframe\n",
    "    db = PostgresDb(POSTGRES_HOST, POSTGRES_DB, POSTGRES_USER, POSTGRES_PASSWORD, 5432)\n",
    "    db.connect()\n",
    "    db.create_update_table(df, schema_name_rds, table_name_rds, columns_schema_rds, key_column_rds)\n",
    "    print(\"Data saved into PostgreSQL\")"
   ]
  },
  {
   "cell_type": "code",
   "execution_count": 8,
   "metadata": {},
   "outputs": [
    {
     "name": "stdout",
     "output_type": "stream",
     "text": [
      "Data saved into PostgreSQL\n"
     ]
    }
   ],
   "source": [
    "stocks_load_rds = save_db_postgress_RDS(historical_df, schema_name_rds, table_stocks, schema_stocks, col_aux)"
   ]
  },
  {
   "cell_type": "markdown",
   "metadata": {},
   "source": [
    "### Stocks and FIIS dividends'"
   ]
  },
  {
   "cell_type": "code",
   "execution_count": 9,
   "metadata": {
    "metadata": {}
   },
   "outputs": [],
   "source": [
    "tickers = [\"PETR4\", \"WEGE3\", \"VALE3\", \"RAIZ4\", \"ITSA4\", \"KLBN4\", \"B3SA3\", \"ALPA3\", \"ELET3\", \"MGLU3\"]\n",
    "\n",
    "\n",
    "params = {\n",
    "    'range': '6mo',\n",
    "    'interval': '1d',\n",
    "    'fundamental': 'false',\n",
    "    'dividends': 'true',\n",
    "    'token': TOKEN_GENERATOR,\n",
    "}\n",
    "\n",
    "\n",
    "URL = f\"https://brapi.dev/api/quote/\""
   ]
  },
  {
   "cell_type": "code",
   "execution_count": 10,
   "metadata": {
    "metadata": {}
   },
   "outputs": [],
   "source": [
    "api_div = Brapi_STOCKS_API(\n",
    "    url=URL,\n",
    "    tickers=tickers, \n",
    "    params=params\n",
    ")\n",
    "\n",
    "data_div= api_div.get_quotes()"
   ]
  },
  {
   "cell_type": "code",
   "execution_count": 11,
   "metadata": {
    "metadata": {}
   },
   "outputs": [
    {
     "data": {
      "text/html": [
       "<div>\n",
       "<style scoped>\n",
       "    .dataframe tbody tr th:only-of-type {\n",
       "        vertical-align: middle;\n",
       "    }\n",
       "\n",
       "    .dataframe tbody tr th {\n",
       "        vertical-align: top;\n",
       "    }\n",
       "\n",
       "    .dataframe thead th {\n",
       "        text-align: right;\n",
       "    }\n",
       "</style>\n",
       "<table border=\"1\" class=\"dataframe\">\n",
       "  <thead>\n",
       "    <tr style=\"text-align: right;\">\n",
       "      <th></th>\n",
       "      <th>approvedon</th>\n",
       "      <th>symbol</th>\n",
       "      <th>assetissued</th>\n",
       "      <th>isincode</th>\n",
       "      <th>label</th>\n",
       "      <th>lastdateprior</th>\n",
       "      <th>paymentdate</th>\n",
       "      <th>rate</th>\n",
       "      <th>relatedto</th>\n",
       "      <th>remarks</th>\n",
       "      <th>update_key</th>\n",
       "    </tr>\n",
       "  </thead>\n",
       "  <tbody>\n",
       "    <tr>\n",
       "      <th>0</th>\n",
       "      <td>2024-05-03T13:00:00.000Z</td>\n",
       "      <td>PETR4</td>\n",
       "      <td>BRPETRACNPR6</td>\n",
       "      <td>BRPETRACNPR6</td>\n",
       "      <td>DIVIDENDO</td>\n",
       "      <td>2024-05-03T13:00:00.000Z</td>\n",
       "      <td>2024-05-03T13:00:00.000Z</td>\n",
       "      <td>1.764165</td>\n",
       "      <td>2º Trimestre/2024</td>\n",
       "      <td></td>\n",
       "      <td>2024-05-03T13:00:00.000ZPETR4</td>\n",
       "    </tr>\n",
       "    <tr>\n",
       "      <th>0</th>\n",
       "      <td>2024-04-26T13:00:00.000Z</td>\n",
       "      <td>PETR4</td>\n",
       "      <td>BRPETRACNPR6</td>\n",
       "      <td>BRPETRACNPR6</td>\n",
       "      <td>DIVIDENDO</td>\n",
       "      <td>2024-04-26T13:00:00.000Z</td>\n",
       "      <td>2024-04-26T13:00:00.000Z</td>\n",
       "      <td>1.141431</td>\n",
       "      <td>2º Trimestre/2024</td>\n",
       "      <td></td>\n",
       "      <td>2024-04-26T13:00:00.000ZPETR4</td>\n",
       "    </tr>\n",
       "    <tr>\n",
       "      <th>0</th>\n",
       "      <td>2023-11-22T13:00:00.000Z</td>\n",
       "      <td>PETR4</td>\n",
       "      <td>BRPETRACNPR6</td>\n",
       "      <td>BRPETRACNPR6</td>\n",
       "      <td>DIVIDENDO</td>\n",
       "      <td>2023-11-22T13:00:00.000Z</td>\n",
       "      <td>2023-11-22T13:00:00.000Z</td>\n",
       "      <td>1.355278</td>\n",
       "      <td>Novembro/2023</td>\n",
       "      <td></td>\n",
       "      <td>2023-11-22T13:00:00.000ZPETR4</td>\n",
       "    </tr>\n",
       "    <tr>\n",
       "      <th>0</th>\n",
       "      <td>2023-08-22T13:00:00.000Z</td>\n",
       "      <td>PETR4</td>\n",
       "      <td>BRPETRACNPR6</td>\n",
       "      <td>BRPETRACNPR6</td>\n",
       "      <td>DIVIDENDO</td>\n",
       "      <td>2023-08-22T13:00:00.000Z</td>\n",
       "      <td>2023-08-22T13:00:00.000Z</td>\n",
       "      <td>1.149304</td>\n",
       "      <td>Agosto/2023</td>\n",
       "      <td></td>\n",
       "      <td>2023-08-22T13:00:00.000ZPETR4</td>\n",
       "    </tr>\n",
       "    <tr>\n",
       "      <th>0</th>\n",
       "      <td>2023-06-13T13:00:00.000Z</td>\n",
       "      <td>PETR4</td>\n",
       "      <td>BRPETRACNPR6</td>\n",
       "      <td>BRPETRACNPR6</td>\n",
       "      <td>DIVIDENDO</td>\n",
       "      <td>2023-06-13T13:00:00.000Z</td>\n",
       "      <td>2023-06-13T13:00:00.000Z</td>\n",
       "      <td>1.893576</td>\n",
       "      <td>Junho/2023</td>\n",
       "      <td></td>\n",
       "      <td>2023-06-13T13:00:00.000ZPETR4</td>\n",
       "    </tr>\n",
       "  </tbody>\n",
       "</table>\n",
       "</div>"
      ],
      "text/plain": [
       "                 approvedon symbol   assetissued      isincode      label  \\\n",
       "0  2024-05-03T13:00:00.000Z  PETR4  BRPETRACNPR6  BRPETRACNPR6  DIVIDENDO   \n",
       "0  2024-04-26T13:00:00.000Z  PETR4  BRPETRACNPR6  BRPETRACNPR6  DIVIDENDO   \n",
       "0  2023-11-22T13:00:00.000Z  PETR4  BRPETRACNPR6  BRPETRACNPR6  DIVIDENDO   \n",
       "0  2023-08-22T13:00:00.000Z  PETR4  BRPETRACNPR6  BRPETRACNPR6  DIVIDENDO   \n",
       "0  2023-06-13T13:00:00.000Z  PETR4  BRPETRACNPR6  BRPETRACNPR6  DIVIDENDO   \n",
       "\n",
       "              lastdateprior               paymentdate      rate  \\\n",
       "0  2024-05-03T13:00:00.000Z  2024-05-03T13:00:00.000Z  1.764165   \n",
       "0  2024-04-26T13:00:00.000Z  2024-04-26T13:00:00.000Z  1.141431   \n",
       "0  2023-11-22T13:00:00.000Z  2023-11-22T13:00:00.000Z  1.355278   \n",
       "0  2023-08-22T13:00:00.000Z  2023-08-22T13:00:00.000Z  1.149304   \n",
       "0  2023-06-13T13:00:00.000Z  2023-06-13T13:00:00.000Z  1.893576   \n",
       "\n",
       "           relatedto remarks                     update_key  \n",
       "0  2º Trimestre/2024          2024-05-03T13:00:00.000ZPETR4  \n",
       "0  2º Trimestre/2024          2024-04-26T13:00:00.000ZPETR4  \n",
       "0      Novembro/2023          2023-11-22T13:00:00.000ZPETR4  \n",
       "0        Agosto/2023          2023-08-22T13:00:00.000ZPETR4  \n",
       "0         Junho/2023          2023-06-13T13:00:00.000ZPETR4  "
      ]
     },
     "execution_count": 11,
     "metadata": {},
     "output_type": "execute_result"
    }
   ],
   "source": [
    "# security of what wil be ingest in the database. The rest its just simple json treatment with pandas.\n",
    "\n",
    "div_df = process_dividends_df(data_div)\n",
    "\n",
    "\n",
    "# col for update algorithm in pushing the data to the database.\n",
    "col_aux_div = 'update_key'\n",
    "div_df[col_aux_div] = div_df.paymentDate + div_df.symbol\n",
    "\n",
    "# Postegres it's case sensitive for columns names...\n",
    "div_df.columns = div_df.columns.str.lower()\n",
    "\n",
    "# Reorder columns\n",
    "div_df = move_column(div_df, 'symbol', 1)\n",
    "\n",
    "\n",
    "div_df.head()"
   ]
  },
  {
   "cell_type": "code",
   "execution_count": 12,
   "metadata": {
    "metadata": {}
   },
   "outputs": [
    {
     "data": {
      "text/plain": [
       "{'approvedon': 'VARCHAR(255)',\n",
       " 'symbol': 'VARCHAR(255)',\n",
       " 'assetissued': 'VARCHAR(255)',\n",
       " 'isincode': 'VARCHAR(255)',\n",
       " 'label': 'VARCHAR(255)',\n",
       " 'lastdateprior': 'VARCHAR(255)',\n",
       " 'paymentdate': 'VARCHAR(255)',\n",
       " 'rate': 'FLOAT',\n",
       " 'relatedto': 'VARCHAR(255)',\n",
       " 'remarks': 'VARCHAR(255)',\n",
       " 'update_key': 'VARCHAR(255)'}"
      ]
     },
     "execution_count": 12,
     "metadata": {},
     "output_type": "execute_result"
    }
   ],
   "source": [
    "table_div = \"dividends_table\"\n",
    "schema_name_rds = \"firsttry\"\n",
    "schema_dividends = infer_postgres_schema(div_df)\n",
    "schema_dividends"
   ]
  },
  {
   "cell_type": "code",
   "execution_count": 13,
   "metadata": {},
   "outputs": [
    {
     "name": "stdout",
     "output_type": "stream",
     "text": [
      "Data saved into PostgreSQL\n"
     ]
    }
   ],
   "source": [
    "dvis_load_rds = save_db_postgress_RDS(div_df, schema_name_rds, table_div, schema_dividends, col_aux_div)"
   ]
  },
  {
   "cell_type": "markdown",
   "metadata": {},
   "source": [
    "#### *Params* (variables for Selic and inflation)"
   ]
  },
  {
   "cell_type": "code",
   "execution_count": 14,
   "metadata": {},
   "outputs": [],
   "source": [
    "contry = 'brazil'\n",
    "start = '01/01/2023'\n",
    "end = '01/01/2024'\n",
    "sortby = 'date'\n",
    "sortorder = 'asc'"
   ]
  },
  {
   "cell_type": "markdown",
   "metadata": {},
   "source": [
    "### Inflation"
   ]
  },
  {
   "cell_type": "code",
   "execution_count": 15,
   "metadata": {},
   "outputs": [],
   "source": [
    "url_inflation = \"https://brapi.dev/api/v2/inflation\"\n",
    "params = {\n",
    "    'country': contry,\n",
    "    'start': start,\n",
    "    'end': end,\n",
    "    'sortBy': sortby,\n",
    "    'sortOrder': sortorder,\n",
    "    'token': TOKEN_GENERATOR,\n",
    "}"
   ]
  },
  {
   "cell_type": "code",
   "execution_count": 16,
   "metadata": {},
   "outputs": [],
   "source": [
    "### *Requesting Inflation historical data from Brapi API*\n",
    "\n",
    "api_inflation = Brapi_notSTOCKS__API(\n",
    "    url=url_inflation,\n",
    "    params=params\n",
    ")\n",
    "\n",
    "data_inflation = api_inflation.get_other_quotes()"
   ]
  },
  {
   "cell_type": "code",
   "execution_count": 17,
   "metadata": {},
   "outputs": [
    {
     "data": {
      "text/html": [
       "<div>\n",
       "<style scoped>\n",
       "    .dataframe tbody tr th:only-of-type {\n",
       "        vertical-align: middle;\n",
       "    }\n",
       "\n",
       "    .dataframe tbody tr th {\n",
       "        vertical-align: top;\n",
       "    }\n",
       "\n",
       "    .dataframe thead th {\n",
       "        text-align: right;\n",
       "    }\n",
       "</style>\n",
       "<table border=\"1\" class=\"dataframe\">\n",
       "  <thead>\n",
       "    <tr style=\"text-align: right;\">\n",
       "      <th></th>\n",
       "      <th>date</th>\n",
       "      <th>value</th>\n",
       "      <th>update_key</th>\n",
       "    </tr>\n",
       "  </thead>\n",
       "  <tbody>\n",
       "    <tr>\n",
       "      <th>0</th>\n",
       "      <td>2023-01-01</td>\n",
       "      <td>5.77</td>\n",
       "      <td>2023-01-01_5.77</td>\n",
       "    </tr>\n",
       "    <tr>\n",
       "      <th>1</th>\n",
       "      <td>2023-02-01</td>\n",
       "      <td>5.60</td>\n",
       "      <td>2023-02-01_5.6</td>\n",
       "    </tr>\n",
       "    <tr>\n",
       "      <th>2</th>\n",
       "      <td>2023-03-01</td>\n",
       "      <td>4.65</td>\n",
       "      <td>2023-03-01_4.65</td>\n",
       "    </tr>\n",
       "    <tr>\n",
       "      <th>3</th>\n",
       "      <td>2023-04-01</td>\n",
       "      <td>4.18</td>\n",
       "      <td>2023-04-01_4.18</td>\n",
       "    </tr>\n",
       "    <tr>\n",
       "      <th>4</th>\n",
       "      <td>2023-05-01</td>\n",
       "      <td>3.94</td>\n",
       "      <td>2023-05-01_3.94</td>\n",
       "    </tr>\n",
       "  </tbody>\n",
       "</table>\n",
       "</div>"
      ],
      "text/plain": [
       "         date  value       update_key\n",
       "0  2023-01-01   5.77  2023-01-01_5.77\n",
       "1  2023-02-01   5.60   2023-02-01_5.6\n",
       "2  2023-03-01   4.65  2023-03-01_4.65\n",
       "3  2023-04-01   4.18  2023-04-01_4.18\n",
       "4  2023-05-01   3.94  2023-05-01_3.94"
      ]
     },
     "execution_count": 17,
     "metadata": {},
     "output_type": "execute_result"
    }
   ],
   "source": [
    "df_inflation = process_inflation_hist(data_inflation['inflation'])\n",
    "\n",
    "\n",
    "# col for update algorithm in pushing the data to the database.\n",
    "col_aux_infla = 'update_key'\n",
    "\n",
    "\n",
    "df_inflation[col_aux_infla] = df_inflation['date'].astype(str) + '_' + df_inflation['value'].astype(str)\n",
    "\n",
    "# Postegres it's case sensitive for columns names...\n",
    "df_inflation.columns = df_inflation.columns.str.lower()\n",
    "\n",
    "df_inflation.head()"
   ]
  },
  {
   "cell_type": "markdown",
   "metadata": {},
   "source": [
    "### Selic"
   ]
  },
  {
   "cell_type": "code",
   "execution_count": 18,
   "metadata": {},
   "outputs": [],
   "source": [
    "# Same schema / metod that inflation...\n",
    "\n",
    "url_selic = \"https://brapi.dev/api/v2/prime-rate\"\n",
    "params = {\n",
    "    'country': contry,\n",
    "    'start': start,\n",
    "    'end': end,\n",
    "    'sortBy': sortby,\n",
    "    'sortOrder': sortorder,\n",
    "    'token': TOKEN_GENERATOR,\n",
    "}"
   ]
  },
  {
   "cell_type": "code",
   "execution_count": 19,
   "metadata": {},
   "outputs": [],
   "source": [
    "api_selic = Brapi_notSTOCKS__API(\n",
    "    url=url_selic,\n",
    "    params=params\n",
    ")\n",
    "\n",
    "data_selic = api_selic.get_other_quotes()"
   ]
  },
  {
   "cell_type": "code",
   "execution_count": 20,
   "metadata": {},
   "outputs": [
    {
     "data": {
      "text/html": [
       "<div>\n",
       "<style scoped>\n",
       "    .dataframe tbody tr th:only-of-type {\n",
       "        vertical-align: middle;\n",
       "    }\n",
       "\n",
       "    .dataframe tbody tr th {\n",
       "        vertical-align: top;\n",
       "    }\n",
       "\n",
       "    .dataframe thead th {\n",
       "        text-align: right;\n",
       "    }\n",
       "</style>\n",
       "<table border=\"1\" class=\"dataframe\">\n",
       "  <thead>\n",
       "    <tr style=\"text-align: right;\">\n",
       "      <th></th>\n",
       "      <th>date</th>\n",
       "      <th>selic_value</th>\n",
       "    </tr>\n",
       "  </thead>\n",
       "  <tbody>\n",
       "    <tr>\n",
       "      <th>0</th>\n",
       "      <td>2023-01-01</td>\n",
       "      <td>13.75</td>\n",
       "    </tr>\n",
       "    <tr>\n",
       "      <th>1</th>\n",
       "      <td>2023-01-02</td>\n",
       "      <td>13.75</td>\n",
       "    </tr>\n",
       "    <tr>\n",
       "      <th>2</th>\n",
       "      <td>2023-01-03</td>\n",
       "      <td>13.75</td>\n",
       "    </tr>\n",
       "    <tr>\n",
       "      <th>3</th>\n",
       "      <td>2023-01-04</td>\n",
       "      <td>13.75</td>\n",
       "    </tr>\n",
       "    <tr>\n",
       "      <th>4</th>\n",
       "      <td>2023-01-05</td>\n",
       "      <td>13.75</td>\n",
       "    </tr>\n",
       "  </tbody>\n",
       "</table>\n",
       "</div>"
      ],
      "text/plain": [
       "         date  selic_value\n",
       "0  2023-01-01        13.75\n",
       "1  2023-01-02        13.75\n",
       "2  2023-01-03        13.75\n",
       "3  2023-01-04        13.75\n",
       "4  2023-01-05        13.75"
      ]
     },
     "execution_count": 20,
     "metadata": {},
     "output_type": "execute_result"
    }
   ],
   "source": [
    "df_selic = process_inflation_hist(data_selic['prime-rate'])\n",
    "df_selic = df_selic.rename(columns={'value': 'selic_value'}).reset_index(drop=True)\n",
    "df_selic.columns = df_selic.columns.str.lower()\n",
    "df_selic.head()"
   ]
  },
  {
   "cell_type": "markdown",
   "metadata": {},
   "source": [
    "Because inflation and selic tables are in the same struct and are short,\n",
    "they will be merged  for simplicity of the upload."
   ]
  },
  {
   "cell_type": "code",
   "execution_count": 21,
   "metadata": {},
   "outputs": [
    {
     "data": {
      "text/html": [
       "<div>\n",
       "<style scoped>\n",
       "    .dataframe tbody tr th:only-of-type {\n",
       "        vertical-align: middle;\n",
       "    }\n",
       "\n",
       "    .dataframe tbody tr th {\n",
       "        vertical-align: top;\n",
       "    }\n",
       "\n",
       "    .dataframe thead th {\n",
       "        text-align: right;\n",
       "    }\n",
       "</style>\n",
       "<table border=\"1\" class=\"dataframe\">\n",
       "  <thead>\n",
       "    <tr style=\"text-align: right;\">\n",
       "      <th></th>\n",
       "      <th>date</th>\n",
       "      <th>inflation_value</th>\n",
       "      <th>selic_value</th>\n",
       "      <th>update_key</th>\n",
       "    </tr>\n",
       "  </thead>\n",
       "  <tbody>\n",
       "    <tr>\n",
       "      <th>0</th>\n",
       "      <td>2023-01-01</td>\n",
       "      <td>5.77</td>\n",
       "      <td>13.75</td>\n",
       "      <td>2023-01-01_5.77</td>\n",
       "    </tr>\n",
       "    <tr>\n",
       "      <th>1</th>\n",
       "      <td>2023-02-01</td>\n",
       "      <td>5.60</td>\n",
       "      <td>13.75</td>\n",
       "      <td>2023-02-01_5.6</td>\n",
       "    </tr>\n",
       "    <tr>\n",
       "      <th>2</th>\n",
       "      <td>2023-03-01</td>\n",
       "      <td>4.65</td>\n",
       "      <td>13.75</td>\n",
       "      <td>2023-03-01_4.65</td>\n",
       "    </tr>\n",
       "    <tr>\n",
       "      <th>3</th>\n",
       "      <td>2023-04-01</td>\n",
       "      <td>4.18</td>\n",
       "      <td>13.75</td>\n",
       "      <td>2023-04-01_4.18</td>\n",
       "    </tr>\n",
       "    <tr>\n",
       "      <th>4</th>\n",
       "      <td>2023-05-01</td>\n",
       "      <td>3.94</td>\n",
       "      <td>13.75</td>\n",
       "      <td>2023-05-01_3.94</td>\n",
       "    </tr>\n",
       "  </tbody>\n",
       "</table>\n",
       "</div>"
      ],
      "text/plain": [
       "         date  inflation_value  selic_value       update_key\n",
       "0  2023-01-01             5.77        13.75  2023-01-01_5.77\n",
       "1  2023-02-01             5.60        13.75   2023-02-01_5.6\n",
       "2  2023-03-01             4.65        13.75  2023-03-01_4.65\n",
       "3  2023-04-01             4.18        13.75  2023-04-01_4.18\n",
       "4  2023-05-01             3.94        13.75  2023-05-01_3.94"
      ]
     },
     "execution_count": 21,
     "metadata": {},
     "output_type": "execute_result"
    }
   ],
   "source": [
    "# Lets start changing the name of values in inflation too.\n",
    "\n",
    "df_inflation = df_inflation.rename(columns={'value': 'inflation_value'}).reset_index(drop=True)\n",
    "\n",
    "# mergin \n",
    "\n",
    "df_merge = pd.merge(df_inflation, df_selic, how='left', on='date')\n",
    "columns = ['date', 'inflation_value', 'selic_value', 'update_key']\n",
    "df_merge = df_merge[columns]\n",
    "\n",
    "df_merge.head()"
   ]
  },
  {
   "cell_type": "markdown",
   "metadata": {},
   "source": [
    "#### *Load to RDS*"
   ]
  },
  {
   "cell_type": "code",
   "execution_count": 22,
   "metadata": {},
   "outputs": [
    {
     "data": {
      "text/plain": [
       "{'date': 'VARCHAR(255)',\n",
       " 'inflation_value': 'FLOAT',\n",
       " 'selic_value': 'FLOAT',\n",
       " 'update_key': 'VARCHAR(255)'}"
      ]
     },
     "execution_count": 22,
     "metadata": {},
     "output_type": "execute_result"
    }
   ],
   "source": [
    "table_infla_selic = \"infla_selic_historical\"\n",
    "#schema_name_rds = \"same variable then stocks\"\n",
    "schema_infla_selic = infer_postgres_schema(df_merge)\n",
    "schema_infla_selic"
   ]
  },
  {
   "cell_type": "code",
   "execution_count": 23,
   "metadata": {},
   "outputs": [
    {
     "name": "stdout",
     "output_type": "stream",
     "text": [
      "Data saved into PostgreSQL\n"
     ]
    }
   ],
   "source": [
    "infla_load_rds = save_db_postgress_RDS(df_merge, schema_name_rds, table_infla_selic, schema_infla_selic, col_aux_infla)"
   ]
  }
 ],
 "metadata": {
  "kernelspec": {
   "display_name": "venv",
   "language": "python",
   "name": "python3"
  },
  "language_info": {
   "codemirror_mode": {
    "name": "ipython",
    "version": 3
   },
   "file_extension": ".py",
   "mimetype": "text/x-python",
   "name": "python",
   "nbconvert_exporter": "python",
   "pygments_lexer": "ipython3",
   "version": "3.10.12"
  }
 },
 "nbformat": 4,
 "nbformat_minor": 2
}
